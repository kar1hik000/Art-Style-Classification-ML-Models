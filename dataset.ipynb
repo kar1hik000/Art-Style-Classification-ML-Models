{
 "cells": [
  {
   "cell_type": "code",
   "execution_count": 1,
   "metadata": {},
   "outputs": [],
   "source": [
    "import os\n",
    "import random\n",
    "\n",
    "def trim_images_in_folder(folder_path, max_images=1000):\n",
    "    for subdir, _, files in os.walk(folder_path):\n",
    "        image_files = [file for file in files if file.lower().endswith(('.png', '.jpg', '.jpeg', '.gif', '.bmp'))]\n",
    "        \n",
    "        if len(image_files) > max_images:\n",
    "            images_to_remove = random.sample(image_files, len(image_files) - max_images)\n",
    "            for image in images_to_remove:\n",
    "                os.remove(os.path.join(subdir, image))\n",
    "\n",
    "def main():\n",
    "    archive_path = r\"E:\\ML EXTENSION\\Archive\"\n",
    "    trim_images_in_folder(archive_path)\n",
    "\n",
    "if __name__ == '__main__':\n",
    "    main()\n"
   ]
  }
 ],
 "metadata": {
  "kernelspec": {
   "display_name": "Python 3",
   "language": "python",
   "name": "python3"
  },
  "language_info": {
   "codemirror_mode": {
    "name": "ipython",
    "version": 3
   },
   "file_extension": ".py",
   "mimetype": "text/x-python",
   "name": "python",
   "nbconvert_exporter": "python",
   "pygments_lexer": "ipython3",
   "version": "3.10.11"
  }
 },
 "nbformat": 4,
 "nbformat_minor": 2
}
